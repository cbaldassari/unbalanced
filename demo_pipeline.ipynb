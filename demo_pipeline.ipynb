{
 "cells": [
  {
   "cell_type": "markdown",
   "metadata": {},
   "source": [
    "# Demo Pipeline\n",
    "This notebook demonstrates the basic steps of the energy market modeling pipeline."
   ]
  },
  {
   "cell_type": "code",
   "execution_count": null,
   "metadata": {},
   "outputs": [],
   "source": [
    "from src.graphs import visibility_graph\n",
    "from src.embedding import dummy_embedding\n",
    "from src.wasserstein import compute_barycenter\n",
    "import numpy as np\n",
    "\n",
    "# Simulate time series\n",
    "ts1 = np.random.randn(100)\n",
    "ts2 = np.random.randn(100)\n",
    "\n",
    "# Graph construction\n",
    "G1 = visibility_graph(ts1)\n",
    "G2 = visibility_graph(ts2)\n",
    "\n",
    "# Embeddings\n",
    "emb1 = dummy_embedding(G1)\n",
    "emb2 = dummy_embedding(G2)\n",
    "\n",
    "# Compute barycenter\n",
    "barycenter = compute_barycenter(emb1, emb2, 0.65)\n",
    "list(barycenter.items())[:3]"
   ]
  }
 ],
 "metadata": {
  "kernelspec": {
   "display_name": "Python 3",
   "language": "python",
   "name": "python3"
  },
  "language_info": {
   "name": "python",
   "version": ""
  }
 },
 "nbformat": 4,
 "nbformat_minor": 2
}